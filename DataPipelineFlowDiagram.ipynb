{
 "cells": [
  {
   "cell_type": "markdown",
   "id": "0fec51bc-57e6-45df-aa6f-5bc3f32a14a3",
   "metadata": {},
   "source": [
    "# Data Management"
   ]
  },
  {
   "cell_type": "code",
   "execution_count": 3,
   "id": "484cb326-590f-4e38-9fea-a377c8a8a8b8",
   "metadata": {
    "tags": []
   },
   "outputs": [
    {
     "name": "stdout",
     "output_type": "stream",
     "text": [
      "Collecting graphviz\n",
      "  Downloading graphviz-0.20.3-py3-none-any.whl.metadata (12 kB)\n",
      "Downloading graphviz-0.20.3-py3-none-any.whl (47 kB)\n",
      "Installing collected packages: graphviz\n",
      "Successfully installed graphviz-0.20.3\n"
     ]
    }
   ],
   "source": [
    "!pip install graphviz"
   ]
  },
  {
   "cell_type": "code",
   "execution_count": 104,
   "id": "38908003-fee8-4c96-bd33-cc68df55cc32",
   "metadata": {
    "tags": []
   },
   "outputs": [
    {
     "data": {
      "text/plain": [
       "'CAPIBARA_Data_Workflow.png'"
      ]
     },
     "execution_count": 104,
     "metadata": {},
     "output_type": "execute_result"
    }
   ],
   "source": [
    "from graphviz import Digraph\n",
    "\n",
    "# Create a directed graph\n",
    "dot = Digraph(\"CAPIBARA Data Workflow\", format=\"png\")\n",
    "dot.attr(rankdir=\"TB\", size=\"12\", dpi=\"600\")\n",
    "\n",
    "# Define node styles\n",
    "dot.attr(\"node\", shape=\"box\", style=\"rounded, filled\", color=\"lightblue\", fontname=\"Arial\", fontsize=\"12\")\n",
    "\n",
    "# Main components\n",
    "dot.node(\"SurveyMode\", \"Survey Mode\\n(Sky Survey)\", color=\"orange\")\n",
    "dot.node(\"ProposalMode\", \"Proposal-driven Mode\\n(External Applications)\", color=\"orange\")\n",
    "\n",
    "dot.node(\"OnboardProcessing\", \"Onboard Processing\\n(Transient Analysis)\", color=\"pink\")\n",
    "\n",
    "dot.node(\"Alert\", \"Alert via Kafka GCN\", color=\"pink\")\n",
    "dot.node(\"OtherObs\", \"External Follow-Up Obs\")\n",
    "dot.node(\"Redirection\", \"Automatic X-ray Follow-Up\", color=\"pink\")\n",
    "\n",
    "dot.node(\"OnboardStorage\", \"Temporary Onboard Storage\", color=\"pink\")\n",
    "\n",
    "dot.node(\"Archive\", \"Earth-based Archive\", color=\"lightgreen\")\n",
    "\n",
    "dot.node(\"Collab\", \"CAPIBARA Collaboration\", color=\"lightgreen\")\n",
    "dot.node(\"Propietary\", \"Proposal Authors\", color=\"lightgreen\")\n",
    "\n",
    "dot.node(\"Release\", \"Semestral/Yearly Data Releases\", color=\"lightgreen\")\n",
    "\n",
    "# define connections\n",
    "dot.edge(\"SurveyMode\", \"OnboardProcessing\", label=\"\", style='dashed')\n",
    "dot.edge(\"ProposalMode\", \"OnboardProcessing\", label=\"\", style='dashed')\n",
    "\n",
    "# dot.edge(\"OnboardProcessing\", \"RegularData\", label=\"\")\n",
    "# dot.edge(\"OnboardProcessing\", \"Transient\", labe=\"\")\n",
    "\n",
    "dot.edge(\"OnboardProcessing\", \"Alert\", label=\"Transient Detection\", style='dashed')\n",
    "dot.edge(\"OnboardProcessing\", \"Redirection\", label=\"\", style='dashed')\n",
    "dot.edge(\"Alert\", \"OtherObs\", label=\"\", style='dashed')\n",
    "\n",
    "dot.edge(\"OnboardProcessing\", \"OnboardStorage\", label=\"Regular Data\", style=\"dashed\")\n",
    "dot.edge(\"Redirection\", \"OnboardStorage\", label=\"\", style=\"dashed\")\n",
    "\n",
    "dot.edge(\"OnboardStorage\", \"Archive\", label=\"Data Downlink\")\n",
    "\n",
    "dot.edge(\"Archive\", \"Collab\", label=\"Survey Data\")\n",
    "dot.edge(\"Archive\", \"Propietary\", label=\"Proposal Data\")\n",
    "\n",
    "dot.edge(\"Collab\", \"Release\", label=\"\")\n",
    "dot.edge(\"Propietary\", \"Release\", label=\"\")\n",
    "\n",
    "# Add a legend\n",
    "# with dot.subgraph(name=\"cluster_legend\") as legend:\n",
    "    # legend.attr(label=\"Legend\", color=\"black\", style=\"dashed\")\n",
    "    # legend.node(\"Dashed\", \"Dashed = Onboard Storage or Proprietary Data\", style=\"dashed\", color=\"gray\")\n",
    "    # legend.node(\"Dotted\", \"Dotted = Real-Time Alerts\", style=\"dotted\", color=\"gray\")\n",
    "\n",
    "# Render the diagram\n",
    "dot.render(\"CAPIBARA_Data_Workflow\", view=True)"
   ]
  },
  {
   "cell_type": "code",
   "execution_count": null,
   "id": "c7b52c66-abe0-45d7-b239-76e8ecf41c50",
   "metadata": {},
   "outputs": [],
   "source": []
  }
 ],
 "metadata": {
  "kernelspec": {
   "display_name": "Python 3 (ipykernel)",
   "language": "python",
   "name": "python3"
  },
  "language_info": {
   "codemirror_mode": {
    "name": "ipython",
    "version": 3
   },
   "file_extension": ".py",
   "mimetype": "text/x-python",
   "name": "python",
   "nbconvert_exporter": "python",
   "pygments_lexer": "ipython3",
   "version": "3.10.15"
  }
 },
 "nbformat": 4,
 "nbformat_minor": 5
}
